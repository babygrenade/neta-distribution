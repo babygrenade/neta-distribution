{
 "cells": [
  {
   "cell_type": "markdown",
   "metadata": {},
   "source": [
    "# NETA Mining Distribution - Effects on NETA Rich List\n",
    "The NETA subpool on GetBlok has been running for about 2 weeks now.  \n",
    "\n",
    "Since this is about the halfway point (a little over half the NETA has been depleted) I was curious what effect, if any the subpool has had on NETA distribution & the NETA \"Rich List.\""
   ]
  },
  {
   "cell_type": "markdown",
   "metadata": {},
   "source": [
    "### Download the Data\n",
    "\n",
    "The [Ergo Tokenautics](https://github.com/babygrenade/ergo-tokenautics) tool captures daily snapshots of richlists for various tokens.  Using the [frontend](https://babygrenade.github.io/ergo-tokenautics-frontend/?token=NETA) we can select \"snapshots\" for today and 6/11 (the day the NETA subpool launched) and get urls for the raw csv files.\n",
    "\n",
    "I download the data below and convert them to pandas dataframes."
   ]
  },
  {
   "cell_type": "code",
   "execution_count": 166,
   "metadata": {},
   "outputs": [],
   "source": [
    "import requests\n",
    "import pandas as pd\n",
    "from io import StringIO\n",
    "\n",
    "current = 'https://raw.githubusercontent.com/babygrenade/ergo-tokenautics/a0b8e3726fc2e24a0a67ddb2a9d530794ebc51cd/data/NETA.csv'\n",
    "old = 'https://raw.githubusercontent.com/babygrenade/ergo-tokenautics/e2ba650c52531c9268002ddce10e12a92d98e8e4/data/NETA.csv'\n",
    "r = requests.get(current)\n",
    "current_df = pd.read_csv(StringIO(r.text))\n",
    "r = requests.get(old)\n",
    "old_df = pd.read_csv(StringIO(r.text))\n"
   ]
  },
  {
   "cell_type": "code",
   "execution_count": 167,
   "metadata": {},
   "outputs": [],
   "source": [
    "# Adjusting amounts for NETA's 6 decimal places:\n",
    "current_df['amount'] = current_df['amount'] / (10**6)\n",
    "old_df['amount'] = old_df['amount'] / (10**6)"
   ]
  },
  {
   "cell_type": "markdown",
   "metadata": {},
   "source": [
    "### Add a rank column."
   ]
  },
  {
   "cell_type": "code",
   "execution_count": 168,
   "metadata": {},
   "outputs": [],
   "source": [
    "current_df['rank'] = current_df['amount'].rank(ascending=False).astype('int')\n",
    "old_df['rank'] = old_df['amount'].rank(ascending=False).astype('int')"
   ]
  },
  {
   "cell_type": "markdown",
   "metadata": {},
   "source": [
    "### Find change in rank.\n",
    "By joining the history dataset to the current dataset, we find the difference in rank for any addresses."
   ]
  },
  {
   "cell_type": "code",
   "execution_count": 169,
   "metadata": {},
   "outputs": [],
   "source": [
    "joined_df = current_df.merge(old_df,how='left', on = 'address', suffixes = ('','_old'))\n",
    "joined_df['rank_change'] = joined_df['rank_old'].fillna(max(current_df['rank'])+1) - joined_df['rank']\n",
    "joined_df['rank_change'] = joined_df['rank_change'].astype('int')\n",
    "joined_df.drop('rank_old',axis=1,inplace=True)\n",
    "joined_df['amount_change'] = joined_df['amount'] - joined_df['amount_old'].fillna(0)"
   ]
  },
  {
   "cell_type": "markdown",
   "metadata": {},
   "source": [
    "### Formatting Helper Functions"
   ]
  },
  {
   "cell_type": "code",
   "execution_count": 170,
   "metadata": {},
   "outputs": [],
   "source": [
    "# Colors negative numbers red and positive numbers green.\n",
    "def color_negative_red(value):\n",
    "    if value < 0:\n",
    "        color = 'red'\n",
    "    elif value > 0:\n",
    "        color = 'green'\n",
    "    else:\n",
    "        color = 'black'\n",
    "    return 'color: %s' % color"
   ]
  },
  {
   "cell_type": "code",
   "execution_count": 171,
   "metadata": {},
   "outputs": [],
   "source": [
    "# Shortens contract addresses for readability and adds a clickable link to the explorer.\n",
    "def format_address(val):\n",
    "    url = 'https://explorer.ergoplatform.com/en/addresses/'+ val\n",
    "    if len(val)> 51:\n",
    "        val = val[:50] + '...'\n",
    "    return f'<a target=\"_blank\" href=\"{url}\">{val[:53]}</a>'"
   ]
  },
  {
   "cell_type": "markdown",
   "metadata": {},
   "source": [
    "### Display Results\n",
    "On row 4 we see what looks like the address for the mining subpool contract with about 5 million NETA left in it.\n",
    "\n",
    "Poking around at some of the gainers - it doesn't look like there are many miners breaking into the top holders list.  \n",
    "There is a big increase in NETA liquidity on ErgoDEX so my guess is that's where most of the NETA from the Subpool is going, either being sold or as a liquidity pair."
   ]
  },
  {
   "cell_type": "code",
   "execution_count": 172,
   "metadata": {},
   "outputs": [],
   "source": [
    "joined_df.rename(columns={'percentage':'%', 'percentage_old':'%_old'},inplace=True)\n",
    "joined_df.head(100) \\\n",
    "    .style.applymap(color_negative_red,subset=['rank_change','amount_change'])\\\n",
    "    .format({'address': format_address}) \\\n",
    "    .set_properties(**{'font-size': '10pt'}) \\\n",
    "    .set_properties(subset=['address'],**{'font-size': '8pt'})"
   ]
  }
 ],
 "metadata": {
  "kernelspec": {
   "display_name": "Python 3.9.13 64-bit (windows store)",
   "language": "python",
   "name": "python3"
  },
  "language_info": {
   "codemirror_mode": {
    "name": "ipython",
    "version": 3
   },
   "file_extension": ".py",
   "mimetype": "text/x-python",
   "name": "python",
   "nbconvert_exporter": "python",
   "pygments_lexer": "ipython3",
   "version": "3.9.13"
  },
  "orig_nbformat": 4,
  "vscode": {
   "interpreter": {
    "hash": "53ec7899f29ae76e2535963463954fab0737eed526f44e36123c770d660b507f"
   }
  }
 },
 "nbformat": 4,
 "nbformat_minor": 2
}
